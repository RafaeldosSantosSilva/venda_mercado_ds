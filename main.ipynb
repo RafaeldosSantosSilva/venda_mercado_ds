{
 "cells": [
  {
   "cell_type": "code",
   "execution_count": 1,
   "metadata": {},
   "outputs": [],
   "source": [
    "import pandas as pd"
   ]
  },
  {
   "cell_type": "markdown",
   "metadata": {},
   "source": [
    "CRIANDO A TABELA"
   ]
  },
  {
   "cell_type": "code",
   "execution_count": 10,
   "metadata": {},
   "outputs": [],
   "source": [
    "produtos = {\n",
    "    \"ID\": [1, 2, 3, 4, 5, 6, 7, 8, 9, 10],\n",
    "    \"Produto\": [\"Arroz\", \"Feijão\", \"Macarrão\", \"Óleo\", \n",
    "                \"Açúcar\", \"Café (500g)\", \"Leite\", \"Farinha\", \n",
    "                \"Biscoito\", \"Sabão\"],\n",
    "    \"Quantidade em Estoque\": [100, 150, 200, 80, 120, 90, 200, 110, 300, 50],\n",
    "    \"Preco\": [25.00, 8.50, 4.20, 9.90, 7.00, 14.50, 5.50, 6.00, 3.80, 12.00],\n",
    "    \"Validade\": [\"2025-12-31\", \"2024-11-30\", \"2024-12-15\", \"2025-03-01\", \"2025-06-30\",\n",
    "                 \"2024-09-15\", \"2024-08-10\", \"2025-01-31\", \"2024-10-20\", \"2026-05-01\"]\n",
    "}"
   ]
  },
  {
   "cell_type": "code",
   "execution_count": 11,
   "metadata": {},
   "outputs": [
    {
     "data": {
      "text/html": [
       "<div>\n",
       "<style scoped>\n",
       "    .dataframe tbody tr th:only-of-type {\n",
       "        vertical-align: middle;\n",
       "    }\n",
       "\n",
       "    .dataframe tbody tr th {\n",
       "        vertical-align: top;\n",
       "    }\n",
       "\n",
       "    .dataframe thead th {\n",
       "        text-align: right;\n",
       "    }\n",
       "</style>\n",
       "<table border=\"1\" class=\"dataframe\">\n",
       "  <thead>\n",
       "    <tr style=\"text-align: right;\">\n",
       "      <th></th>\n",
       "      <th>ID</th>\n",
       "      <th>Produto</th>\n",
       "      <th>Quantidade em Estoque</th>\n",
       "      <th>Preco</th>\n",
       "      <th>Validade</th>\n",
       "    </tr>\n",
       "  </thead>\n",
       "  <tbody>\n",
       "    <tr>\n",
       "      <th>0</th>\n",
       "      <td>1</td>\n",
       "      <td>Arroz</td>\n",
       "      <td>100</td>\n",
       "      <td>25.0</td>\n",
       "      <td>2025-12-31</td>\n",
       "    </tr>\n",
       "    <tr>\n",
       "      <th>1</th>\n",
       "      <td>2</td>\n",
       "      <td>Feijão</td>\n",
       "      <td>150</td>\n",
       "      <td>8.5</td>\n",
       "      <td>2024-11-30</td>\n",
       "    </tr>\n",
       "    <tr>\n",
       "      <th>2</th>\n",
       "      <td>3</td>\n",
       "      <td>Macarrão</td>\n",
       "      <td>200</td>\n",
       "      <td>4.2</td>\n",
       "      <td>2024-12-15</td>\n",
       "    </tr>\n",
       "    <tr>\n",
       "      <th>3</th>\n",
       "      <td>4</td>\n",
       "      <td>Óleo</td>\n",
       "      <td>80</td>\n",
       "      <td>9.9</td>\n",
       "      <td>2025-03-01</td>\n",
       "    </tr>\n",
       "    <tr>\n",
       "      <th>4</th>\n",
       "      <td>5</td>\n",
       "      <td>Açúcar</td>\n",
       "      <td>120</td>\n",
       "      <td>7.0</td>\n",
       "      <td>2025-06-30</td>\n",
       "    </tr>\n",
       "    <tr>\n",
       "      <th>5</th>\n",
       "      <td>6</td>\n",
       "      <td>Café (500g)</td>\n",
       "      <td>90</td>\n",
       "      <td>14.5</td>\n",
       "      <td>2024-09-15</td>\n",
       "    </tr>\n",
       "    <tr>\n",
       "      <th>6</th>\n",
       "      <td>7</td>\n",
       "      <td>Leite</td>\n",
       "      <td>200</td>\n",
       "      <td>5.5</td>\n",
       "      <td>2024-08-10</td>\n",
       "    </tr>\n",
       "    <tr>\n",
       "      <th>7</th>\n",
       "      <td>8</td>\n",
       "      <td>Farinha</td>\n",
       "      <td>110</td>\n",
       "      <td>6.0</td>\n",
       "      <td>2025-01-31</td>\n",
       "    </tr>\n",
       "    <tr>\n",
       "      <th>8</th>\n",
       "      <td>9</td>\n",
       "      <td>Biscoito</td>\n",
       "      <td>300</td>\n",
       "      <td>3.8</td>\n",
       "      <td>2024-10-20</td>\n",
       "    </tr>\n",
       "    <tr>\n",
       "      <th>9</th>\n",
       "      <td>10</td>\n",
       "      <td>Sabão</td>\n",
       "      <td>50</td>\n",
       "      <td>12.0</td>\n",
       "      <td>2026-05-01</td>\n",
       "    </tr>\n",
       "  </tbody>\n",
       "</table>\n",
       "</div>"
      ],
      "text/plain": [
       "   ID      Produto  Quantidade em Estoque  Preco    Validade\n",
       "0   1        Arroz                    100   25.0  2025-12-31\n",
       "1   2       Feijão                    150    8.5  2024-11-30\n",
       "2   3     Macarrão                    200    4.2  2024-12-15\n",
       "3   4         Óleo                     80    9.9  2025-03-01\n",
       "4   5       Açúcar                    120    7.0  2025-06-30\n",
       "5   6  Café (500g)                     90   14.5  2024-09-15\n",
       "6   7        Leite                    200    5.5  2024-08-10\n",
       "7   8      Farinha                    110    6.0  2025-01-31\n",
       "8   9     Biscoito                    300    3.8  2024-10-20\n",
       "9  10        Sabão                     50   12.0  2026-05-01"
      ]
     },
     "execution_count": 11,
     "metadata": {},
     "output_type": "execute_result"
    }
   ],
   "source": [
    "df =  pd.DataFrame(produtos)\n",
    "df"
   ]
  },
  {
   "cell_type": "markdown",
   "metadata": {},
   "source": [
    "Identifique o produto com preço mais alto"
   ]
  },
  {
   "cell_type": "code",
   "execution_count": 12,
   "metadata": {},
   "outputs": [
    {
     "name": "stdout",
     "output_type": "stream",
     "text": [
      "O produto mais caro tem o valor de 25.00\n"
     ]
    }
   ],
   "source": [
    "maior_preco = df['Preco'].max()\n",
    "print(f\"O produto mais caro tem o valor de {maior_preco:.2f}\")"
   ]
  },
  {
   "cell_type": "markdown",
   "metadata": {},
   "source": [
    "Identifique o produto com preço mais baixo"
   ]
  },
  {
   "cell_type": "code",
   "execution_count": 13,
   "metadata": {},
   "outputs": [
    {
     "name": "stdout",
     "output_type": "stream",
     "text": [
      "O produto mais barato tem o valor de 3.80\n"
     ]
    }
   ],
   "source": [
    "menor_preco = df['Preco'].min()\n",
    "print(f\"O produto mais barato tem o valor de {menor_preco:.2f}\")"
   ]
  },
  {
   "cell_type": "markdown",
   "metadata": {},
   "source": [
    "O produto com menor quantidade em estoque"
   ]
  },
  {
   "cell_type": "code",
   "execution_count": 17,
   "metadata": {},
   "outputs": [
    {
     "name": "stdout",
     "output_type": "stream",
     "text": [
      "O produto com menor estoque é Sabão\n"
     ]
    }
   ],
   "source": [
    "menor_estoque = df['Quantidade em Estoque'].min()\n",
    "produto_menor_estoque = df[df['Quantidade em Estoque'] == menor_estoque]\n",
    "nome_produto_menor_estoque = produto_menor_estoque['Produto'].values[0]\n",
    "print(f'O produto com menor estoque é {nome_produto_menor_estoque}')\n"
   ]
  }
 ],
 "metadata": {
  "kernelspec": {
   "display_name": "Python 3",
   "language": "python",
   "name": "python3"
  },
  "language_info": {
   "codemirror_mode": {
    "name": "ipython",
    "version": 3
   },
   "file_extension": ".py",
   "mimetype": "text/x-python",
   "name": "python",
   "nbconvert_exporter": "python",
   "pygments_lexer": "ipython3",
   "version": "3.10.5"
  }
 },
 "nbformat": 4,
 "nbformat_minor": 2
}
